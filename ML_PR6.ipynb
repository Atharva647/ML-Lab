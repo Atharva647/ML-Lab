{
 "cells": [
  {
   "cell_type": "code",
   "execution_count": 2,
   "id": "0c42ad3c",
   "metadata": {},
   "outputs": [],
   "source": [
    "import numpy as np\n",
    "import random\n",
    "\n",
    "\n",
    "maze=[[0,0,0,-10,0],\n",
    "     [-10,0,0,0,0],\n",
    "     [0,0,-10,0,0],\n",
    "     [0,0,-10,0,0],\n",
    "     [0,0,-10,0,100]]\n",
    "\n",
    "alpha = 0.1      # Learning rate\n",
    "gamma = 0.9      # Discount factor\n",
    "epsilon = 1.0    # Exploration rate\n",
    "epsilon_decay = 0.99\n",
    "min_epsilon = 0.01\n",
    "episodes = 500   # Number of training episodes\n",
    "max_steps = 100 \n",
    "\n",
    "q_table=np.zeros((5,5,4))\n",
    "\n",
    "actions=['up','down','left','right']\n",
    "\n",
    "action_dict={'up':(-1,0),'down':(1,0),'left':(0,-1),'right':(0,1)}\n"
   ]
  },
  {
   "cell_type": "code",
   "execution_count": 3,
   "id": "20ca5920",
   "metadata": {},
   "outputs": [],
   "source": [
    "def get_state(state,action):\n",
    "    row,col=state\n",
    "    row_move,col_move=action_dict[action]\n",
    "    \n",
    "    newrow,newcol=row+row_move,col+col_move\n",
    "    \n",
    "    if newrow<0 or newrow>=len(maze) or newcol<0 or newcol>=len(maze[0]):\n",
    "        return state\n",
    "    return (newrow,newcol)\n",
    "def get_reward(state):\n",
    "    row,col=state\n",
    "    return maze[row][col]\n",
    "\n",
    "def select_action(state):\n",
    "    if random.uniform(0,1)<epsilon:\n",
    "        return random.choice(actions)\n",
    "    else:\n",
    "        return actions[np.argmax(q_table[state[0],state[1]])]\n",
    "    "
   ]
  },
  {
   "cell_type": "code",
   "execution_count": 4,
   "id": "8f1d96fc",
   "metadata": {},
   "outputs": [
    {
     "name": "stdout",
     "output_type": "stream",
     "text": [
      "Episode 0, Total Reward: -20\n",
      "Episode 100, Total Reward: 100\n",
      "Episode 200, Total Reward: 100\n",
      "Episode 300, Total Reward: 100\n",
      "Episode 400, Total Reward: 100\n"
     ]
    }
   ],
   "source": [
    "for episode in range(episodes):\n",
    "    state=(0,0)\n",
    "    total_reward=0\n",
    "    for step in range(max_steps):\n",
    "        action=select_action(state)\n",
    "        next_state=get_state(state,action)\n",
    "        reward=get_reward(state)\n",
    "        total_reward+=reward\n",
    "        action_index=actions.index(action)\n",
    "        \n",
    "        q_table[state[0], state[1], action_index] +=  alpha * (reward + gamma * \n",
    "                np.max(q_table[next_state[0], next_state[1]]) - q_table[state[0], state[1], action_index])\n",
    "        \n",
    "           \n",
    "        state=next_state\n",
    "        \n",
    "        if reward==100:\n",
    "            break\n",
    "#     epsilon=max(min_epsilon,epsilon*epsilon_decay)\n",
    "    if episode % 100 == 0:\n",
    "        print(f\"Episode {episode}, Total Reward: {total_reward}\")\n",
    "    epsilon=max(min_epsilon,epsilon*epsilon_decay)"
   ]
  },
  {
   "cell_type": "code",
   "execution_count": 5,
   "id": "1b9e2245",
   "metadata": {},
   "outputs": [
    {
     "name": "stdout",
     "output_type": "stream",
     "text": [
      "\n",
      "Optimal Path:\n",
      "State: (0, 0), Action: right\n",
      "State: (0, 1), Action: down\n",
      "State: (1, 1), Action: right\n",
      "State: (1, 2), Action: right\n",
      "State: (1, 3), Action: down\n",
      "State: (2, 3), Action: right\n",
      "State: (2, 4), Action: down\n",
      "State: (3, 4), Action: down\n",
      "Reached the goal in 8 steps!\n"
     ]
    }
   ],
   "source": [
    "state = (0, 0)\n",
    "steps = 0\n",
    "print(\"\\nOptimal Path:\")\n",
    "while state != (4, 4) and steps < max_steps:\n",
    "    action = select_action(state)\n",
    "    next_state = get_state(state, action)\n",
    "    print(f\"State: {state}, Action: {action}\")\n",
    "    state = next_state\n",
    "    steps += 1\n",
    "\n",
    "if state == (4, 4):\n",
    "    print(f\"Reached the goal in {steps} steps!\")\n",
    "else:\n",
    "    print(\"Failed to reach the goal.\")"
   ]
  },
  {
   "cell_type": "code",
   "execution_count": null,
   "id": "39838ba0",
   "metadata": {},
   "outputs": [],
   "source": []
  }
 ],
 "metadata": {
  "kernelspec": {
   "display_name": "Python 3 (ipykernel)",
   "language": "python",
   "name": "python3"
  },
  "language_info": {
   "codemirror_mode": {
    "name": "ipython",
    "version": 3
   },
   "file_extension": ".py",
   "mimetype": "text/x-python",
   "name": "python",
   "nbconvert_exporter": "python",
   "pygments_lexer": "ipython3",
   "version": "3.11.5"
  }
 },
 "nbformat": 4,
 "nbformat_minor": 5
}
